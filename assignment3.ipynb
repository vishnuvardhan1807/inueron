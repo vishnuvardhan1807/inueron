{
 "cells": [
  {
   "cell_type": "markdown",
   "id": "25693b8c",
   "metadata": {},
   "source": [
    "1.1 Write a Python Program to implement your own myreduce() function which works exactly\n",
    "like Python's built-in function reduce()"
   ]
  },
  {
   "cell_type": "code",
   "execution_count": 8,
   "id": "74627f87",
   "metadata": {},
   "outputs": [
    {
     "data": {
      "text/plain": [
       "18"
      ]
     },
     "execution_count": 8,
     "metadata": {},
     "output_type": "execute_result"
    }
   ],
   "source": [
    "def my_reduce(add, iterable):\n",
    "    a = iterable[0]\n",
    "    for i in range(1, len(iterable)):\n",
    "        b = iterable[i]\n",
    "        a = add(a,b)\n",
    "    return a\n",
    "\n",
    "def add(a, b):\n",
    "    return a + b\n",
    "\n",
    "l = [3,4,5,6]\n",
    "my_reduce(add,l)"
   ]
  },
  {
   "cell_type": "markdown",
   "id": "ec54c711",
   "metadata": {},
   "source": [
    "1.2 Write a Python program to implement your own myfilter() function which works exactly\n",
    "like Python's built-in function filter()"
   ]
  },
  {
   "cell_type": "code",
   "execution_count": 9,
   "id": "f0920dfd",
   "metadata": {},
   "outputs": [
    {
     "data": {
      "text/plain": [
       "[4, 6]"
      ]
     },
     "execution_count": 9,
     "metadata": {},
     "output_type": "execute_result"
    }
   ],
   "source": [
    "def my_filter(even,l):\n",
    "    return even(l)\n",
    "\n",
    "def even(l):\n",
    "    for i in l:\n",
    "        if i % 2 == 0:\n",
    "            l1.append(i)\n",
    "    return l1\n",
    "            \n",
    "l = [3,4,5,6]\n",
    "l1 = []\n",
    "my_filter(even,l)"
   ]
  },
  {
   "cell_type": "markdown",
   "id": "7a93c25d",
   "metadata": {},
   "source": [
    "2. Implement list comphresions"
   ]
  },
  {
   "cell_type": "code",
   "execution_count": 2,
   "id": "3bc496ab",
   "metadata": {},
   "outputs": [
    {
     "name": "stdout",
     "output_type": "stream",
     "text": [
      "The values in list1 comphreshension are\n",
      "['x', 'xx', 'xxx', 'xxxx', 'y', 'yy', 'yyy', 'yyyy', 'z', 'zz', 'zzz', 'zzzz']\n"
     ]
    }
   ],
   "source": [
    "list1 = ['x', 'xx', 'xxx', 'xxxx', 'y', \n",
    "          'yy', 'yyy', 'yyyy', 'z', 'zz', 'zzz', 'zzzz']\n",
    "list1_comphrehension = [value for value in list1]\n",
    "print(\"The values in list1 comphreshension are:\")\n",
    "print(list1_comphrehension)"
   ]
  },
  {
   "cell_type": "code",
   "execution_count": 4,
   "id": "53379b57",
   "metadata": {},
   "outputs": [
    {
     "name": "stdout",
     "output_type": "stream",
     "text": [
      "The values in list2 comphreshension are:\n",
      "['x', 'y', 'z', 'xx', 'yy', 'zz', 'xxx', 'yyy', 'zzz', 'xxxx', 'yyyy', 'zzzz']\n"
     ]
    }
   ],
   "source": [
    "list2 = ['x', 'y', 'z', 'xx', 'yy', 'zz', 'xxx', 'yyy', 'zzz', 'xxxx', 'yyyy', 'zzzz']\n",
    "list2_comphrehension = [value for value in list2]\n",
    "print(\"The values in list2 comphreshension are:\")\n",
    "print(list2_comphrehension)"
   ]
  },
  {
   "cell_type": "code",
   "execution_count": 17,
   "id": "e78650ae",
   "metadata": {},
   "outputs": [
    {
     "name": "stdout",
     "output_type": "stream",
     "text": [
      "[[[2], [3], [4], [3], [4], [5], [4], [5], [6]], [[2, 3, 4, 5], [3, 4, 5, 6], [4, 5, 6, 7], [5, 6, 7, 8]]]\n"
     ]
    }
   ],
   "source": [
    "list3 = [[[2],[3],[4],[3],[4],[5],[4],[5],[6]],\n",
    "        [[2,3,4,5],[3,4,5,6],[4,5,6,7],[5,6,7,8]]]\n",
    "list3_comphrehension = [value for value in list3]\n",
    "print(list3_comphrehension)"
   ]
  },
  {
   "cell_type": "code",
   "execution_count": 19,
   "id": "bb42069b",
   "metadata": {},
   "outputs": [
    {
     "name": "stdout",
     "output_type": "stream",
     "text": [
      "[(1, 1), (2, 1), (3, 1), (1, 2), (2, 2), (3, 2), (1, 3), (2, 3), (3, 3)]\n"
     ]
    }
   ],
   "source": [
    "list4 = [(1, 1), (2, 1), (3, 1), (1, 2), (2, 2), (3, 2), (1, 3), (2, 3), (3, 3)]\n",
    "list4_comphrehension =  [value for value in list4]\n",
    "print(list4_comphrehension)"
   ]
  }
 ],
 "metadata": {
  "kernelspec": {
   "display_name": "Python 3",
   "language": "python",
   "name": "python3"
  },
  "language_info": {
   "codemirror_mode": {
    "name": "ipython",
    "version": 3
   },
   "file_extension": ".py",
   "mimetype": "text/x-python",
   "name": "python",
   "nbconvert_exporter": "python",
   "pygments_lexer": "ipython3",
   "version": "3.8.8"
  }
 },
 "nbformat": 4,
 "nbformat_minor": 5
}
