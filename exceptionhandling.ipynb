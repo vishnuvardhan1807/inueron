{
 "cells": [
  {
   "cell_type": "markdown",
   "id": "410ec865",
   "metadata": {},
   "source": [
    "1. Write a function to compute 5/0 and use try/except to catch the exceptions."
   ]
  },
  {
   "cell_type": "code",
   "execution_count": 5,
   "id": "45de4a3b",
   "metadata": {},
   "outputs": [
    {
     "name": "stdout",
     "output_type": "stream",
     "text": [
      "division by zero error\n"
     ]
    }
   ],
   "source": [
    "def compute(number):\n",
    "    try:\n",
    "        a = 5/0\n",
    "        return a\n",
    "    except Exception as e:\n",
    "        print(str(e) + \" \" +\"error\")\n",
    "    \n",
    "        \n",
    "compute(5)"
   ]
  },
  {
   "cell_type": "markdown",
   "id": "e3209169",
   "metadata": {},
   "source": [
    "2. Implement a Python program to generate all sentences where subject is in\n",
    "[\"Americans\", \"Indians\"] and verb is in [\"Play\", \"watch\"] and the object is in\n",
    "[\"Baseball\",\"cricket\"]."
   ]
  },
  {
   "cell_type": "code",
   "execution_count": 6,
   "id": "80781368",
   "metadata": {},
   "outputs": [
    {
     "name": "stdout",
     "output_type": "stream",
     "text": [
      "Americans play Baseball\n",
      "Americans play cricket\n",
      "Americans watch Baseball\n",
      "Americans watch cricket\n",
      "indians play Baseball\n",
      "indians play cricket\n",
      "indians watch Baseball\n",
      "indians watch cricket\n"
     ]
    }
   ],
   "source": [
    "subjects = [\"Americans\", \"indians\"]\n",
    "verbs = [\"play\", \"watch\"]\n",
    "objects = [\"Baseball\", \"cricket\"]\n",
    "\n",
    "for i in subjects:\n",
    "    for j in verbs:\n",
    "        for k in objects:\n",
    "            print(f\"{i} {j} {k}\")"
   ]
  }
 ],
 "metadata": {
  "kernelspec": {
   "display_name": "Python 3",
   "language": "python",
   "name": "python3"
  },
  "language_info": {
   "codemirror_mode": {
    "name": "ipython",
    "version": 3
   },
   "file_extension": ".py",
   "mimetype": "text/x-python",
   "name": "python",
   "nbconvert_exporter": "python",
   "pygments_lexer": "ipython3",
   "version": "3.8.8"
  }
 },
 "nbformat": 4,
 "nbformat_minor": 5
}
