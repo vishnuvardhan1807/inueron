{
 "cells": [
  {
   "cell_type": "code",
   "execution_count": 1,
   "id": "130bc860",
   "metadata": {},
   "outputs": [],
   "source": [
    "import numpy as np"
   ]
  },
  {
   "cell_type": "markdown",
   "id": "3a809d40",
   "metadata": {},
   "source": [
    "<pre>\n",
    "Write a function so that the columns of the output matrix are powers of the input\n",
    "vector.\n",
    "The order of the powers is determined by the increasing boolean argument. Specifically, when\n",
    "increasing is False, the i-th output column is the input vector raised element-wise to the power\n",
    "of N - i - 1.\n",
    "\n",
    "HINT: Such a matrix with a geometric progression in each row is named for Alexandre-\n",
    "Theophile Vandermonde.\n",
    "</pre>"
   ]
  },
  {
   "cell_type": "code",
   "execution_count": 7,
   "id": "8a342d1c",
   "metadata": {},
   "outputs": [
    {
     "name": "stdout",
     "output_type": "stream",
     "text": [
      "The input matrix is [ 9  5 10 14 15]\n",
      "The number of cols is 3\n",
      "When In Decreasing order......................\n",
      "[[ 81   9   1]\n",
      " [ 25   5   1]\n",
      " [100  10   1]\n",
      " [196  14   1]\n",
      " [225  15   1]]\n",
      "When In Increasing order......................\n",
      "[[  1   9  81]\n",
      " [  1   5  25]\n",
      " [  1  10 100]\n",
      " [  1  14 196]\n",
      " [  1  15 225]]\n"
     ]
    }
   ],
   "source": [
    "def generate_Alex_Theo_Vand(vector, cols, increasing=True):\n",
    "    op_matrix = []\n",
    "    if not increasing:\n",
    "        for x in vector:\n",
    "            for i in range(cols):\n",
    "                op_matrix.append(x ** (cols - 1 - i))\n",
    "        return np.array(op_matrix).reshape(vector.size, cols)\n",
    "    else:\n",
    "        for x in vector:\n",
    "            for i in range(cols):\n",
    "                op_matrix.append(x ** i)\n",
    "        return np.array(op_matrix).reshape(vector.size, cols)\n",
    "        \n",
    "    \n",
    "\n",
    "vector = np.array([9, 5, 10, 14, 15])\n",
    "cols = 3\n",
    "output_mat_decreasing = generate_Alex_Theo_Vand(\n",
    "vector, cols, False\n",
    ")\n",
    "\n",
    "output_mat_increasing = generate_Alex_Theo_Vand(\n",
    "vector, cols, True\n",
    ")\n",
    "\n",
    "print(f\"The input matrix is {vector}\")\n",
    "print(f\"The number of cols is {cols}\")\n",
    "print(\"When In Decreasing order......................\")\n",
    "print(output_mat_decreasing)\n",
    "print(\"When In Increasing order......................\")\n",
    "print(output_mat_increasing)"
   ]
  },
  {
   "cell_type": "markdown",
   "id": "0dbca9f2",
   "metadata": {},
   "source": [
    "<pre>\n",
    "Problem Statement 2:\n",
    "Given a sequence of n values x1, x2, ..., xn and a window size k>0, the k-th moving average of\n",
    "the given sequence is defined as follows:\n",
    "The moving average sequence has n-k+1 elements as shown below.\n",
    "The moving averages with k=4 of a ten-value sequence (n=10) is shown below\n",
    "i 1 2 3 4 5 6 7 8 9 10\n",
    "===== == == == == == == == == == ==\n",
    "Input 10 20 30 40 50 60 70 80 90 100\n",
    "y1 25 = (10+20+30+40)/4\n",
    "y2 35 = (20+30+40+50)/4\n",
    "y3 45 = (30+40+50+60)/4\n",
    "y4 55 = (40+50+60+70)/4\n",
    "y5 65 = (50+60+70+80)/4\n",
    "y6 75 = (60+70+80+90)/4\n",
    "y7 85 = (70+80+90+100)/4\n",
    "Thus, the moving average sequence has n-k+1=10-4+1=7 values.\n",
    "\n",
    "Question: Write a function to find moving average in an array over a window:\n",
    "Test it over [3, 5, 7, 2, 8, 10, 11, 65, 72, 81, 99, 100, 150] and window of 3.\n",
    "</pre>"
   ]
  },
  {
   "cell_type": "code",
   "execution_count": 34,
   "id": "32b5da11",
   "metadata": {},
   "outputs": [
    {
     "name": "stdout",
     "output_type": "stream",
     "text": [
      "The Given input is [  3   5   7   2   8  10  11  65  72  81  99 100 150]\n",
      "================================\n",
      "The moving average of y1 is 5.0\n",
      "The moving average of y2 is 4.666666666666667\n",
      "The moving average of y3 is 5.666666666666667\n",
      "The moving average of y4 is 6.666666666666667\n",
      "The moving average of y5 is 9.666666666666666\n",
      "The moving average of y6 is 28.666666666666668\n",
      "The moving average of y7 is 49.333333333333336\n",
      "The moving average of y8 is 72.66666666666667\n",
      "The moving average of y9 is 84.0\n",
      "The moving average of y10 is 93.33333333333333\n",
      "The moving average of y11 is 116.33333333333333\n"
     ]
    }
   ],
   "source": [
    "def find_moving_Average(array, k):\n",
    "    i = 0\n",
    "    averages = []\n",
    "    \n",
    "    while i <  len(array) - k + 1:\n",
    "        current_window = array[i: i + k]\n",
    "        #print(current_window)\n",
    "        average = sum(current_window) / k\n",
    "        averages.append(average)\n",
    "        i = i + 1\n",
    "    return np.array(averages)\n",
    "\n",
    "\n",
    "array = np.array([3, 5, 7, 2, 8, 10, 11, 65, 72, 81, 99, 100, 150])\n",
    "k = 3\n",
    "averages_ = find_moving_Average(array, k)\n",
    "print(f\"The Given input is {array}\")\n",
    "print(\"================================\")\n",
    "for i in range(len(averages_)):\n",
    "    print(f\"The moving average of y{i + 1} is {averages_[i]}\")\n"
   ]
  }
 ],
 "metadata": {
  "kernelspec": {
   "display_name": "Python 3",
   "language": "python",
   "name": "python3"
  },
  "language_info": {
   "codemirror_mode": {
    "name": "ipython",
    "version": 3
   },
   "file_extension": ".py",
   "mimetype": "text/x-python",
   "name": "python",
   "nbconvert_exporter": "python",
   "pygments_lexer": "ipython3",
   "version": "3.8.11"
  }
 },
 "nbformat": 4,
 "nbformat_minor": 5
}
