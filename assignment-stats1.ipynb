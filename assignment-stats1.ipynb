{
 "cells": [
  {
   "cell_type": "code",
   "execution_count": 6,
   "id": "7a32720b",
   "metadata": {},
   "outputs": [],
   "source": [
    "import numpy as np\n",
    "from scipy import stats\n",
    "import statistics\n",
    "import math\n",
    "import os\n",
    "import sys"
   ]
  },
  {
   "cell_type": "markdown",
   "id": "2fd98617",
   "metadata": {},
   "source": [
    "<pre>\n",
    "1.The marks awarded for an assignment set for a Year 8 class of 20 students were as\n",
    "follows:\n",
    "6 7 5 7 7 8 7 6 9 7 4 10 6 8 8 9 5 6 4 8\n",
    "</pre>"
   ]
  },
  {
   "cell_type": "code",
   "execution_count": 2,
   "id": "7e542625",
   "metadata": {},
   "outputs": [],
   "source": [
    "marks = np.array([6,7,5,7,7,8,7,6,9,7,4,10,6,8,8,9,5,6,4,8])"
   ]
  },
  {
   "cell_type": "code",
   "execution_count": 12,
   "id": "e652fcd5",
   "metadata": {},
   "outputs": [
    {
     "name": "stdout",
     "output_type": "stream",
     "text": [
      "The mean of marks is 6.85\n",
      "The median of marks is 7.0\n",
      "The mode of marks is 7\n",
      "The standard deviation is 1.5898113095584647\n"
     ]
    }
   ],
   "source": [
    "def compute(marks):\n",
    "    print(f\"The mean of marks is {np.mean(marks)}\")\n",
    "    print(f\"The median of marks is {np.median(marks)}\")\n",
    "    print(f\"The mode of marks is {statistics.mode(marks)}\")\n",
    "    print(f\"The standard deviation is {np.std(marks)}\")\n",
    "    \n",
    "compute(marks)"
   ]
  },
  {
   "cell_type": "markdown",
   "id": "ddbb5830",
   "metadata": {},
   "source": [
    "<pre>\n",
    "Problem Statement 2:\n",
    "The number of calls from motorists per day for roadside service was recorded for a\n",
    "particular month:\n",
    "28, 122, 217, 130, 120, 86, 80, 90, 140, 120, 70, 40, 145, 113, 90, 68, 174, 194, 170,\n",
    "100, 75, 104, 97, 75,\n",
    "123, 100, 75, 104, 97, 75, 123, 100, 89, 120, 109\n",
    "</pre>"
   ]
  },
  {
   "cell_type": "code",
   "execution_count": 13,
   "id": "2c826e25",
   "metadata": {},
   "outputs": [
    {
     "name": "stdout",
     "output_type": "stream",
     "text": [
      "The mean of marks is 107.51428571428572\n",
      "The median of marks is 100.0\n",
      "The mode of marks is 75\n",
      "The standard deviation is 38.77287080168403\n"
     ]
    }
   ],
   "source": [
    "call_records =np.asarray([28, 122, 217, 130, 120, 86, \n",
    "                          80, 90, 140, 120, 70, 40,\n",
    "                          145, 113, 90, 68, 174, 194,\n",
    "                          170,100, 75, 104, 97, 75,\n",
    "                          123, 100, 75, 104, 97, 75, 123,\n",
    "                          100, 89, 120, 109])\n",
    "\n",
    "compute(call_records)"
   ]
  },
  {
   "cell_type": "markdown",
   "id": "6a4c7304",
   "metadata": {},
   "source": [
    "<pre>\n",
    "Problem Statement 3:\n",
    "The number of times I go to the gym in weekdays, are given below along with its\n",
    "associated probability:\n",
    "x = 0, 1, 2, 3, 4, 5\n",
    "f(x) = 0.09, 0.15, 0.40, 0.25, 0.10, 0.01\n",
    "Calculate the mean no. of workouts in a week. Also evaluate the variance involved in it.\n",
    "\n",
    "</pre>"
   ]
  },
  {
   "cell_type": "code",
   "execution_count": 33,
   "id": "6dc721a5",
   "metadata": {},
   "outputs": [
    {
     "name": "stdout",
     "output_type": "stream",
     "text": [
      "Mean no.of workouts: 2.15\n",
      "Variance of workouts: [1.2275]\n"
     ]
    }
   ],
   "source": [
    "x = np.array([0,1,2,3,4,5])\n",
    "f_x = np.array([0.09,0.15,0.40,0.25,0.10,0.01])\n",
    "x.reshape((1,-1))\n",
    "f_x.reshape((-1, 1))\n",
    "mean = np.dot(x, f_x)\n",
    "variance_of_x = (x - mean) ** 2\n",
    "variance = np.dot(variance_of_x.reshape(1, -1), f_x)\n",
    "#print( variance_of_x, variance_of_x.reshape(1, -1))\n",
    "#print( variance_of_x.shape, variance_of_x.reshape(1, -1).shape)\n",
    "\n",
    "print(f\"Mean no.of workouts: {mean}\")\n",
    "print(f\"Variance of workouts: {variance}\")"
   ]
  },
  {
   "cell_type": "code",
   "execution_count": null,
   "id": "7c8c9be4",
   "metadata": {},
   "outputs": [],
   "source": []
  },
  {
   "cell_type": "code",
   "execution_count": null,
   "id": "5d9ada92",
   "metadata": {},
   "outputs": [],
   "source": []
  },
  {
   "cell_type": "code",
   "execution_count": null,
   "id": "e581ddfc",
   "metadata": {},
   "outputs": [],
   "source": []
  },
  {
   "cell_type": "code",
   "execution_count": null,
   "id": "4a355b39",
   "metadata": {},
   "outputs": [],
   "source": []
  },
  {
   "cell_type": "code",
   "execution_count": null,
   "id": "02e5b6b4",
   "metadata": {},
   "outputs": [],
   "source": []
  },
  {
   "cell_type": "code",
   "execution_count": null,
   "id": "019c5a6e",
   "metadata": {},
   "outputs": [],
   "source": []
  },
  {
   "cell_type": "code",
   "execution_count": null,
   "id": "09c3a9f4",
   "metadata": {},
   "outputs": [],
   "source": []
  },
  {
   "cell_type": "code",
   "execution_count": null,
   "id": "0eeca5d8",
   "metadata": {},
   "outputs": [],
   "source": []
  },
  {
   "cell_type": "code",
   "execution_count": null,
   "id": "409d746a",
   "metadata": {},
   "outputs": [],
   "source": []
  },
  {
   "cell_type": "code",
   "execution_count": null,
   "id": "a9f6968a",
   "metadata": {},
   "outputs": [],
   "source": []
  },
  {
   "cell_type": "code",
   "execution_count": null,
   "id": "28af04e2",
   "metadata": {},
   "outputs": [],
   "source": []
  },
  {
   "cell_type": "code",
   "execution_count": null,
   "id": "de33fc96",
   "metadata": {},
   "outputs": [],
   "source": []
  }
 ],
 "metadata": {
  "kernelspec": {
   "display_name": "Python 3",
   "language": "python",
   "name": "python3"
  },
  "language_info": {
   "codemirror_mode": {
    "name": "ipython",
    "version": 3
   },
   "file_extension": ".py",
   "mimetype": "text/x-python",
   "name": "python",
   "nbconvert_exporter": "python",
   "pygments_lexer": "ipython3",
   "version": "3.8.11"
  }
 },
 "nbformat": 4,
 "nbformat_minor": 5
}
