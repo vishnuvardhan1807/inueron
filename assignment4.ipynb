{
 "cells": [
  {
   "cell_type": "code",
   "execution_count": 10,
   "id": "a05e052e",
   "metadata": {},
   "outputs": [
    {
     "name": "stdout",
     "output_type": "stream",
     "text": [
      "Enter side1:3\n",
      "Enter side2:4\n",
      "Enter side3:5\n",
      "The area of Triangle is 6.0\n"
     ]
    }
   ],
   "source": [
    "# 1.1\n",
    "class Area:\n",
    "    def take_values(self):\n",
    "        side1 = int(input(\"Enter side1:\"))\n",
    "        side2 = int(input(\"Enter side2:\"))\n",
    "        side3 = int(input(\"Enter side3:\"))\n",
    "        \n",
    "        return [side1, side2, side3]\n",
    "    \n",
    "class Compute(Area):\n",
    "        def cal(self, values):\n",
    "            a = values[0]\n",
    "            b = values[1]\n",
    "            c = values[2]\n",
    "            s = (a + b + c) / 2\n",
    "            area = (s * (s - a ) * (s - b) * (s - c)) ** 0.5\n",
    "            return f\"The area of Triangle is {area}\"\n",
    "        \n",
    "if __name__ == \"__main__\":\n",
    "    ob = Compute()\n",
    "    values = ob.take_values()\n",
    "    print(ob.cal(values))"
   ]
  },
  {
   "cell_type": "code",
   "execution_count": 13,
   "id": "5c9bbccb",
   "metadata": {},
   "outputs": [
    {
     "name": "stdout",
     "output_type": "stream",
     "text": [
      "['vishnu', 'vardhan', 'Sreekar']\n"
     ]
    }
   ],
   "source": [
    "# 1.2\n",
    "def filter_long_words(words, n):\n",
    "    list_ = []\n",
    "    for word in words:\n",
    "        if len(word) > n:\n",
    "            list_.append(word)\n",
    "    return list_\n",
    "            \n",
    "\n",
    "\n",
    "\n",
    "words = [\"vishnu\", \"vardhan\", \"Sreekar\", \"Mohan\"]\n",
    "n = 5\n",
    "print(filter_long_words(words, n))"
   ]
  },
  {
   "cell_type": "code",
   "execution_count": 15,
   "id": "cb8eff05",
   "metadata": {},
   "outputs": [
    {
     "name": "stdout",
     "output_type": "stream",
     "text": [
      "[6, 7, 7, 5]\n"
     ]
    }
   ],
   "source": [
    "# 2.1\n",
    "def len_of_words(word):\n",
    "    return len(word)\n",
    "\n",
    "words = [\"vishnu\", \"vardhan\", \"Sreekar\", \"Mohan\"]\n",
    "print(list(map(len_of_words, words)))"
   ]
  },
  {
   "cell_type": "code",
   "execution_count": 23,
   "id": "d26a4909",
   "metadata": {},
   "outputs": [
    {
     "name": "stdout",
     "output_type": "stream",
     "text": [
      "ENter a Word:E\n",
      "True\n"
     ]
    }
   ],
   "source": [
    "# 2.2\n",
    "def check_vowel(char):\n",
    "    if char in ['A', 'E', 'I', 'O', 'U']:\n",
    "        return True\n",
    "    if char in ['a', 'e', 'i', 'o', 'u']:\n",
    "        return True\n",
    "    else:\n",
    "        return False\n",
    "    \n",
    "char = input(\"ENter a Word:\")\n",
    "print(check_vowel(char))"
   ]
  },
  {
   "cell_type": "code",
   "execution_count": null,
   "id": "56f8926c",
   "metadata": {},
   "outputs": [],
   "source": []
  }
 ],
 "metadata": {
  "kernelspec": {
   "display_name": "Python 3",
   "language": "python",
   "name": "python3"
  },
  "language_info": {
   "codemirror_mode": {
    "name": "ipython",
    "version": 3
   },
   "file_extension": ".py",
   "mimetype": "text/x-python",
   "name": "python",
   "nbconvert_exporter": "python",
   "pygments_lexer": "ipython3",
   "version": "3.8.11"
  }
 },
 "nbformat": 4,
 "nbformat_minor": 5
}
